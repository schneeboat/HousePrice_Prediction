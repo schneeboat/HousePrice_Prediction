{
  "nbformat": 4,
  "nbformat_minor": 0,
  "metadata": {
    "colab": {
      "name": "Untitled4.ipynb",
      "provenance": [],
      "authorship_tag": "ABX9TyPxdo0DsKjnm20Y/JIR1qu5"
    },
    "kernelspec": {
      "name": "python3",
      "display_name": "Python 3"
    }
  },
  "cells": [
    {
      "cell_type": "code",
      "metadata": {
        "id": "0Yb6LKJjleOr",
        "outputId": "a2653a72-d856-450b-b0db-3f2ca31aa354",
        "colab": {
          "base_uri": "https://localhost:8080/"
        }
      },
      "source": [
        "import pandas as pd\n",
        "import numpy as np\n",
        "import matplotlib.pyplot as plt\n",
        "import seaborn as sns\n",
        "import tensorflow as tf\n",
        "from tensorflow import keras\n",
        "from tensorflow.keras import layers\n",
        "from tensorflow.keras.layers.experimental import preprocessing\n",
        "\n",
        "print(tf.__version__)"
      ],
      "execution_count": 1,
      "outputs": [
        {
          "output_type": "stream",
          "text": [
            "2.3.0\n"
          ],
          "name": "stdout"
        }
      ]
    },
    {
      "cell_type": "code",
      "metadata": {
        "id": "zSHdFdIXogyx"
      },
      "source": [
        "data = pd.read_csv('/content/train.csv')"
      ],
      "execution_count": 2,
      "outputs": []
    },
    {
      "cell_type": "code",
      "metadata": {
        "id": "-gRrfzVYqR55",
        "outputId": "b02af382-d3d0-48e0-8f1f-51605ce9f093",
        "colab": {
          "base_uri": "https://localhost:8080/"
        }
      },
      "source": [
        "data_selected= data[['OverallQual', 'GarageArea', '1stFlrSF','GrLivArea','TotalBsmtSF','YearBuilt','SalePrice']]\n",
        "data_selected.isna().sum()"
      ],
      "execution_count": 3,
      "outputs": [
        {
          "output_type": "execute_result",
          "data": {
            "text/plain": [
              "OverallQual    0\n",
              "GarageArea     0\n",
              "1stFlrSF       0\n",
              "GrLivArea      0\n",
              "TotalBsmtSF    0\n",
              "YearBuilt      0\n",
              "SalePrice      0\n",
              "dtype: int64"
            ]
          },
          "metadata": {
            "tags": []
          },
          "execution_count": 3
        }
      ]
    },
    {
      "cell_type": "code",
      "metadata": {
        "id": "xUhiL0HtohKd"
      },
      "source": [
        "train_dataset = data_selected.sample(frac=0.8, random_state=0)\n",
        "test_dataset = data_selected.drop(train_dataset.index)"
      ],
      "execution_count": 4,
      "outputs": []
    },
    {
      "cell_type": "code",
      "metadata": {
        "id": "XdSpWhcMohJS"
      },
      "source": [
        "train_features = train_dataset.copy()\n",
        "test_features = test_dataset.copy()\n",
        "\n",
        "train_labels = train_features.pop('SalePrice')\n",
        "test_labels = test_features.pop('SalePrice')"
      ],
      "execution_count": 5,
      "outputs": []
    },
    {
      "cell_type": "code",
      "metadata": {
        "id": "8yQa1FU0ohC2",
        "outputId": "342be48d-be59-49a8-8034-9a4c915454a6",
        "colab": {
          "base_uri": "https://localhost:8080/"
        }
      },
      "source": [
        "train_labels"
      ],
      "execution_count": 6,
      "outputs": [
        {
          "output_type": "execute_result",
          "data": {
            "text/plain": [
              "529     200624\n",
              "491     133000\n",
              "459     110000\n",
              "279     192000\n",
              "655      88000\n",
              "         ...  \n",
              "1168    235000\n",
              "455     175500\n",
              "584     133000\n",
              "147     222500\n",
              "160     162500\n",
              "Name: SalePrice, Length: 1168, dtype: int64"
            ]
          },
          "metadata": {
            "tags": []
          },
          "execution_count": 6
        }
      ]
    },
    {
      "cell_type": "code",
      "metadata": {
        "id": "IaNsFEiuog80"
      },
      "source": [
        "normalizer = preprocessing.Normalization()"
      ],
      "execution_count": 7,
      "outputs": []
    },
    {
      "cell_type": "code",
      "metadata": {
        "id": "qGAjAED4SYYa"
      },
      "source": [
        "normalizer.adapt(np.array(train_features))\n"
      ],
      "execution_count": 8,
      "outputs": []
    },
    {
      "cell_type": "code",
      "metadata": {
        "id": "cVrG6OtGSYcN",
        "outputId": "0fd38014-3b0e-4b39-86eb-7926dc8e9c2b",
        "colab": {
          "base_uri": "https://localhost:8080/"
        }
      },
      "source": [
        "normalizer.mean.numpy()"
      ],
      "execution_count": 9,
      "outputs": [
        {
          "output_type": "execute_result",
          "data": {
            "text/plain": [
              "array([   6.1532536,  477.2423   , 1168.4341   , 1530.6395   ,\n",
              "       1066.3536   , 1971.1798   ], dtype=float32)"
            ]
          },
          "metadata": {
            "tags": []
          },
          "execution_count": 9
        }
      ]
    },
    {
      "cell_type": "code",
      "metadata": {
        "id": "gZE_3rp1SYf_",
        "outputId": "521e056d-bbf0-4b32-e30f-44d3bab6b3d3",
        "colab": {
          "base_uri": "https://localhost:8080/"
        }
      },
      "source": [
        "first = np.array(train_features[:1])\n",
        "\n",
        "with np.printoptions(precision=2, suppress=True):\n",
        "  print('First example:', first)\n",
        "  print()\n",
        "  print('Normalized:', normalizer(first).numpy())"
      ],
      "execution_count": 10,
      "outputs": [
        {
          "output_type": "stream",
          "text": [
            "First example: [[   6  484 2515 2515 2035 1957]]\n",
            "\n",
            "Normalized: [[-0.11  0.03  3.42  1.85  2.16 -0.46]]\n"
          ],
          "name": "stdout"
        }
      ]
    },
    {
      "cell_type": "code",
      "metadata": {
        "id": "_pgq14DESYl5"
      },
      "source": [
        "def build_and_compile_model(norm):\n",
        "  model = keras.Sequential([\n",
        "      norm,\n",
        "      layers.Dense(126, activation='relu'),\n",
        "      layers.Dense(126, activation='relu'),\n",
        "      \n",
        "      \n",
        "      layers.Dense(1)\n",
        "  ])\n",
        "\n",
        "  model.compile(loss='mean_absolute_error',\n",
        "                optimizer=tf.keras.optimizers.Adam(0.1))\n",
        "  return model\n",
        "\n"
      ],
      "execution_count": 25,
      "outputs": []
    },
    {
      "cell_type": "code",
      "metadata": {
        "id": "Rtqtf8aySYxP",
        "outputId": "7ad54a04-5c9a-4715-e9cc-8fe78119c2d5",
        "colab": {
          "base_uri": "https://localhost:8080/"
        }
      },
      "source": [
        "model=build_and_compile_model(normalizer)\n",
        "model.summary()"
      ],
      "execution_count": 26,
      "outputs": [
        {
          "output_type": "stream",
          "text": [
            "Model: \"sequential_1\"\n",
            "_________________________________________________________________\n",
            "Layer (type)                 Output Shape              Param #   \n",
            "=================================================================\n",
            "normalization (Normalization (None, 6)                 13        \n",
            "_________________________________________________________________\n",
            "dense_3 (Dense)              (None, 126)               882       \n",
            "_________________________________________________________________\n",
            "dense_4 (Dense)              (None, 126)               16002     \n",
            "_________________________________________________________________\n",
            "dense_5 (Dense)              (None, 1)                 127       \n",
            "=================================================================\n",
            "Total params: 17,024\n",
            "Trainable params: 17,011\n",
            "Non-trainable params: 13\n",
            "_________________________________________________________________\n"
          ],
          "name": "stdout"
        }
      ]
    },
    {
      "cell_type": "code",
      "metadata": {
        "id": "3BiPoSoCU3Cm",
        "outputId": "cf51253b-6dc8-4a67-9b7d-84bb532f7dfb",
        "colab": {
          "base_uri": "https://localhost:8080/"
        }
      },
      "source": [
        "%%time\n",
        "history = model.fit(\n",
        "    train_features, train_labels,\n",
        "    validation_split=0.2,\n",
        "    verbose=0, epochs=50)"
      ],
      "execution_count": 27,
      "outputs": [
        {
          "output_type": "stream",
          "text": [
            "CPU times: user 3.82 s, sys: 279 ms, total: 4.1 s\n",
            "Wall time: 3.07 s\n"
          ],
          "name": "stdout"
        }
      ]
    },
    {
      "cell_type": "code",
      "metadata": {
        "id": "rst7d-VRSY-f"
      },
      "source": [
        "def plot_loss(history):\n",
        "  plt.plot(history.history['loss'], label='loss')\n",
        "  plt.plot(history.history['val_loss'], label='val_loss')\n",
        "  plt.ylim([0, 100000])\n",
        "  plt.xlabel('Epoch')\n",
        "  plt.ylabel('Error [SalePrice]')\n",
        "  plt.legend()\n",
        "  plt.grid(True)"
      ],
      "execution_count": 28,
      "outputs": []
    },
    {
      "cell_type": "code",
      "metadata": {
        "id": "DwdpRuVXSY46",
        "outputId": "9a2dfb8a-9b70-4ef7-ee98-fafc0097e3a7",
        "colab": {
          "base_uri": "https://localhost:8080/",
          "height": 283
        }
      },
      "source": [
        "plot_loss(history)"
      ],
      "execution_count": 29,
      "outputs": [
        {
          "output_type": "display_data",
          "data": {
            "image/png": "[encoded data removed]",
            "text/plain": [
              "<Figure size 432x288 with 1 Axes>"
            ]
          },
          "metadata": {
            "tags": [],
            "needs_background": "light"
          }
        }
      ]
    },
    {
      "cell_type": "code",
      "metadata": {
        "id": "SWKs1u1dSYpT",
        "outputId": "a1fd7121-d667-40cc-c9e7-6d25b75b6e1c",
        "colab": {
          "base_uri": "https://localhost:8080/"
        }
      },
      "source": [
        "eva= model.evaluate(test_features, test_labels, verbose=0)\n",
        "eva\n"
      ],
      "execution_count": 16,
      "outputs": [
        {
          "output_type": "execute_result",
          "data": {
            "text/plain": [
              "18782.02734375"
            ]
          },
          "metadata": {
            "tags": []
          },
          "execution_count": 16
        }
      ]
    },
    {
      "cell_type": "code",
      "metadata": {
        "id": "9768rYFObdFQ",
        "outputId": "f60ac4a5-bf6a-4795-d015-823fb2633af7",
        "colab": {
          "base_uri": "https://localhost:8080/",
          "height": 296
        }
      },
      "source": [
        "test_predictions = model.predict(test_features).flatten()\n",
        "\n",
        "a = plt.axes(aspect='equal')\n",
        "plt.scatter(test_labels, test_predictions)\n",
        "plt.xlabel('True Values ')\n",
        "plt.ylabel('Predictions ')\n"
      ],
      "execution_count": 30,
      "outputs": [
        {
          "output_type": "execute_result",
          "data": {
            "text/plain": [
              "Text(0, 0.5, 'Predictions ')"
            ]
          },
          "metadata": {
            "tags": []
          },
          "execution_count": 30
        },
        {
          "output_type": "display_data",
          "data": {
            "image/png": "[encoded data removed]",
            "text/plain": [
              "<Figure size 432x288 with 1 Axes>"
            ]
          },
          "metadata": {
            "tags": [],
            "needs_background": "light"
          }
        }
      ]
    },
    {
      "cell_type": "code",
      "metadata": {
        "id": "h7c3lXUObdMo",
        "outputId": "5244cd14-ad3c-4eac-9599-04d5dd9a903b",
        "colab": {
          "base_uri": "https://localhost:8080/",
          "height": 395
        }
      },
      "source": [
        "sns.distplot(test_labels)\n",
        "sns.distplot(test_predictions)"
      ],
      "execution_count": 31,
      "outputs": [
        {
          "output_type": "stream",
          "text": [
            "/usr/local/lib/python3.6/dist-packages/seaborn/distributions.py:2551: FutureWarning: `distplot` is a deprecated function and will be removed in a future version. Please adapt your code to use either `displot` (a figure-level function with similar flexibility) or `histplot` (an axes-level function for histograms).\n",
            "  warnings.warn(msg, FutureWarning)\n",
            "/usr/local/lib/python3.6/dist-packages/seaborn/distributions.py:2551: FutureWarning: `distplot` is a deprecated function and will be removed in a future version. Please adapt your code to use either `displot` (a figure-level function with similar flexibility) or `histplot` (an axes-level function for histograms).\n",
            "  warnings.warn(msg, FutureWarning)\n"
          ],
          "name": "stderr"
        },
        {
          "output_type": "execute_result",
          "data": {
            "text/plain": [
              "<matplotlib.axes._subplots.AxesSubplot at 0x7fbe7683bcc0>"
            ]
          },
          "metadata": {
            "tags": []
          },
          "execution_count": 31
        },
        {
          "output_type": "display_data",
          "data": {
            "image/png": "[encoded data removed]",
            "text/plain": [
              "<Figure size 432x288 with 1 Axes>"
            ]
          },
          "metadata": {
            "tags": [],
            "needs_background": "light"
          }
        }
      ]
    },
    {
      "cell_type": "code",
      "metadata": {
        "id": "qkCIxUA6bdK9"
      },
      "source": [
        "upload = pd.read_csv('/content/test.csv')\n"
      ],
      "execution_count": 19,
      "outputs": []
    },
    {
      "cell_type": "code",
      "metadata": {
        "id": "oYiI-FoPbdIt",
        "outputId": "d9ec8dc1-0323-45d7-fe29-11ff7ec4665f",
        "colab": {
          "base_uri": "https://localhost:8080/"
        }
      },
      "source": [
        "upload_selected= upload[['Id','OverallQual', 'GarageArea', '1stFlrSF','GrLivArea','TotalBsmtSF','YearBuilt']]\n",
        "upload_selected.GarageArea.fillna(value=480, inplace=True)\n",
        "upload_selected.TotalBsmtSF.fillna(value=868, inplace=True)\n",
        "\n",
        "upload_selected.isna().sum()\n"
      ],
      "execution_count": 20,
      "outputs": [
        {
          "output_type": "stream",
          "text": [
            "/usr/local/lib/python3.6/dist-packages/pandas/core/series.py:4523: SettingWithCopyWarning: \n",
            "A value is trying to be set on a copy of a slice from a DataFrame\n",
            "\n",
            "See the caveats in the documentation: https://pandas.pydata.org/pandas-docs/stable/user_guide/indexing.html#returning-a-view-versus-a-copy\n",
            "  downcast=downcast,\n"
          ],
          "name": "stderr"
        },
        {
          "output_type": "execute_result",
          "data": {
            "text/plain": [
              "Id             0\n",
              "OverallQual    0\n",
              "GarageArea     0\n",
              "1stFlrSF       0\n",
              "GrLivArea      0\n",
              "TotalBsmtSF    0\n",
              "YearBuilt      0\n",
              "dtype: int64"
            ]
          },
          "metadata": {
            "tags": []
          },
          "execution_count": 20
        }
      ]
    },
    {
      "cell_type": "code",
      "metadata": {
        "id": "XpMUxZtfeHW8"
      },
      "source": [
        "train_dataset_up = upload_selected[['OverallQual', 'GarageArea', '1stFlrSF','GrLivArea','TotalBsmtSF','YearBuilt']]\n"
      ],
      "execution_count": 21,
      "outputs": []
    },
    {
      "cell_type": "code",
      "metadata": {
        "id": "8uY50adveHks",
        "outputId": "0d7bba62-5450-4681-8531-35f76078215e",
        "colab": {
          "base_uri": "https://localhost:8080/"
        }
      },
      "source": [
        "upload_selected['SalePrice'] = model.predict(train_dataset_up).flatten()"
      ],
      "execution_count": 22,
      "outputs": [
        {
          "output_type": "stream",
          "text": [
            "/usr/local/lib/python3.6/dist-packages/ipykernel_launcher.py:1: SettingWithCopyWarning: \n",
            "A value is trying to be set on a copy of a slice from a DataFrame.\n",
            "Try using .loc[row_indexer,col_indexer] = value instead\n",
            "\n",
            "See the caveats in the documentation: https://pandas.pydata.org/pandas-docs/stable/user_guide/indexing.html#returning-a-view-versus-a-copy\n",
            "  \"\"\"Entry point for launching an IPython kernel.\n"
          ],
          "name": "stderr"
        }
      ]
    },
    {
      "cell_type": "code",
      "metadata": {
        "id": "lvTgY-obeHsh",
        "outputId": "d0266054-b675-4479-b946-fec715c4789d",
        "colab": {
          "base_uri": "https://localhost:8080/"
        }
      },
      "source": [
        "upload_selected['SalePrice']"
      ],
      "execution_count": 23,
      "outputs": [
        {
          "output_type": "execute_result",
          "data": {
            "text/plain": [
              "0       136794.296875\n",
              "1       153396.468750\n",
              "2       170465.578125\n",
              "3       181872.265625\n",
              "4       203163.140625\n",
              "            ...      \n",
              "1454    104270.476562\n",
              "1455    113316.250000\n",
              "1456    147021.906250\n",
              "1457    128067.921875\n",
              "1458    224808.843750\n",
              "Name: SalePrice, Length: 1459, dtype: float32"
            ]
          },
          "metadata": {
            "tags": []
          },
          "execution_count": 23
        }
      ]
    },
    {
      "cell_type": "code",
      "metadata": {
        "id": "DbKGwUsReHiK"
      },
      "source": [
        "upload_selected[['Id','SalePrice']].to_csv('tf.csv', index=False)"
      ],
      "execution_count": 24,
      "outputs": []
    },
    {
      "cell_type": "code",
      "metadata": {
        "id": "6RHnOh_zeHgR"
      },
      "source": [
        ""
      ],
      "execution_count": 24,
      "outputs": []
    }
  ]
}